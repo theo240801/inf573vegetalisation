{
 "cells": [
  {
   "cell_type": "markdown",
   "metadata": {},
   "source": [
    "### Imports"
   ]
  },
  {
   "cell_type": "code",
   "execution_count": 1,
   "metadata": {},
   "outputs": [],
   "source": [
    "#general \n",
    "import os\n",
    "import numpy as np\n",
    "import json\n",
    "import random\n",
    "from pathlib import Path \n",
    "\n",
    "\n",
    "#deep learning\n",
    "import torch\n",
    "import torch.nn as nn\n",
    "from torch.optim.lr_scheduler import ReduceLROnPlateau\n",
    "\n",
    "from pytorch_lightning.loggers import TensorBoardLogger\n",
    "from pytorch_lightning.callbacks import EarlyStopping, ModelCheckpoint\n",
    "from pytorch_lightning.callbacks.progress.tqdm_progress import TQDMProgressBar\n",
    "from pytorch_lightning import Trainer, seed_everything\n",
    "from pytorch_lightning.utilities import rank_zero_only\n",
    "\n",
    "\n",
    "import albumentations as A\n"
   ]
  },
  {
   "cell_type": "code",
   "execution_count": 2,
   "metadata": {},
   "outputs": [
    {
     "data": {
      "text/plain": [
       "'/Users/Theo/Documents/Depots-github/2023/inf573vegetalisation'"
      ]
     },
     "execution_count": 2,
     "metadata": {},
     "output_type": "execute_result"
    }
   ],
   "source": [
    "os.getcwd()"
   ]
  },
  {
   "cell_type": "code",
   "execution_count": 3,
   "metadata": {},
   "outputs": [
    {
     "name": "stderr",
     "output_type": "stream",
     "text": [
      "/Users/Theo/Library/Caches/pypoetry/virtualenvs/inf573-s0HXXHew-py3.10/lib/python3.10/site-packages/pytorch_lightning/utilities/distributed.py:258: LightningDeprecationWarning: `pytorch_lightning.utilities.distributed.rank_zero_only` has been deprecated in v1.8.1 and will be removed in v2.0.0. You can import it from `pytorch_lightning.utilities` instead.\n",
      "  rank_zero_deprecation(\n"
     ]
    }
   ],
   "source": [
    "from compter.data import get_data_paths\n",
    "from CNN.utils_cnn import new_class, transform_to_only_trees_mask, display_samples, step_loading\n",
    "from CNN.datamodule import OCS_DataModule\n",
    "from CNN.model import SMP_Unet_meta\n",
    "from CNN.task_module import SegmentationTask"
   ]
  },
  {
   "cell_type": "markdown",
   "metadata": {},
   "source": [
    "# Data importation and display\n"
   ]
  },
  {
   "cell_type": "markdown",
   "metadata": {},
   "source": [
    "### Data importation"
   ]
  },
  {
   "cell_type": "code",
   "execution_count": 4,
   "metadata": {},
   "outputs": [],
   "source": [
    "path_toy_dataset_folder = './flair/dataflair/'\n",
    "\n",
    "images = sorted(list(get_data_paths(Path(path_toy_dataset_folder), 'IMG*.tif')), key=lambda x: int(x.split('_')[-1][:-4]))\n",
    "masks  = sorted(list(get_data_paths(Path(path_toy_dataset_folder), 'MSK*.tif')), key=lambda x: int(x.split('_')[-1][:-4]))"
   ]
  },
  {
   "cell_type": "markdown",
   "metadata": {},
   "source": [
    "### Data display"
   ]
  },
  {
   "cell_type": "code",
   "execution_count": 5,
   "metadata": {},
   "outputs": [],
   "source": [
    "#display_samples(images, masks, nb_samples=10)\n"
   ]
  },
  {
   "cell_type": "markdown",
   "metadata": {},
   "source": [
    "# Model definition"
   ]
  },
  {
   "cell_type": "code",
   "execution_count": 6,
   "metadata": {},
   "outputs": [],
   "source": [
    "config = {\n",
    "\n",
    "    ############################\n",
    "    # PATHS\n",
    "    ############################\n",
    "    'data': {\n",
    "              'path_aerial_train': \"./flair/dataflair/flair_1_toy_aerial_train/\",  #e.g.,  ./flair_aerial_train/\n",
    "              'path_aerial_test':  \"./flair/dataflair/flair_1_toy_aerial_test/\",  #e.g., ./flair_1_aerial_test/\n",
    "\n",
    "              'path_labels_train': \"./flair/dataflair/flair_1_toy_labels_train/\",  #e.g., ./flair_labels_train/\n",
    "              'path_labels_test':  \"./flair/dataflair/flair_1_toy_labels_test/\", #e.g.,  ./flair_1_labels_test/\n",
    "              'path_metadata_aerial': \"./flair-1_metadata_aerial.json\", #e.g., ./flair-1_metadata_aerial.json\n",
    "            },\n",
    "\n",
    "    ############################\n",
    "    # NAMINGS\n",
    "    ############################    \n",
    "    'outputs': {\n",
    "                  'out_folder': \"./trees_cnn_model/\", \n",
    "                  'out_model_name': \"trees_model_test\",\n",
    "               },\n",
    "\n",
    "    \n",
    "    ############################\n",
    "    # CLASSES\n",
    "    ############################    \n",
    "    'num_classes': 7,\n",
    "\n",
    "    ############################\n",
    "    # TASKING\n",
    "    ############################\n",
    "    'use_weights': True,\n",
    "    'class_weights': [1.0,1.0,1.0,1.0,1.0,1.0,0.0],\n",
    "    'use_metadata': False,\n",
    "    'use_augmentation': True,\n",
    "\n",
    "\n",
    "    ############################\n",
    "    # TRAINING \n",
    "    ############################\n",
    "    'batch_size': 5,\n",
    "    'learning_rate': 0.02,\n",
    "    'num_epochs': 5,\n",
    "\n",
    "    ############################\n",
    "    # COMPUTATIONAL\n",
    "    ############################\n",
    "    'accelerator': 'cpu',\n",
    "    'strategy':  None,#e.g., 'ddp' if multiple GPUs otherwise leave emtpy if single GPU training\n",
    "    'num_nodes': 1,\n",
    "    'gpus_per_node': 1,\n",
    "    'num_workers': 8,\n",
    "\n",
    "    ############################\n",
    "    # PRINTS TRAINING\n",
    "    ############################\n",
    "    'enable_progress_bar': True,\n",
    "    'progress_rate': 10,\n",
    "\n",
    "\n",
    "}"
   ]
  },
  {
   "cell_type": "markdown",
   "metadata": {},
   "source": [
    "## Dataloaders"
   ]
  },
  {
   "cell_type": "code",
   "execution_count": 7,
   "metadata": {},
   "outputs": [
    {
     "name": "stderr",
     "output_type": "stream",
     "text": [
      "Global seed set to 2022\n"
     ]
    },
    {
     "name": "stdout",
     "output_type": "stream",
     "text": [
      "+-----------------------------+    LOADING DATA    +-----------------------------+\n"
     ]
    }
   ],
   "source": [
    "out_dir = Path(config['outputs'][\"out_folder\"], config['outputs'][\"out_model_name\"])\n",
    "out_dir.mkdir(parents=True, exist_ok=True)\n",
    "seed_everything(2022, workers=True)\n",
    "\n",
    "dict_train, dict_val, dict_test = step_loading(config[\"data\"],use_metadata=config[\"use_metadata\"])  \n",
    "\n",
    "if config['use_augmentation'] == True:\n",
    "    transform_set = A.Compose([A.VerticalFlip(p=0.5),\n",
    "                               A.HorizontalFlip(p=0.5),\n",
    "                               A.RandomRotate90(p=0.5)])\n",
    "else:\n",
    "    transform_set = None\n",
    "\n",
    "dm = OCS_DataModule(\n",
    "    dict_train = dict_train,\n",
    "    dict_val = dict_val,\n",
    "    dict_test = dict_test,\n",
    "    batch_size = config[\"batch_size\"],\n",
    "    num_workers = config[\"num_workers\"],\n",
    "    drop_last = True,\n",
    "    num_classes = config[\"num_classes\"],\n",
    "    num_channels = 5,\n",
    "    use_metadata = config[\"use_metadata\"],\n",
    "    use_augmentations = transform_set)"
   ]
  },
  {
   "cell_type": "markdown",
   "metadata": {},
   "source": [
    "## Model and learning setting"
   ]
  },
  {
   "cell_type": "code",
   "execution_count": 8,
   "metadata": {},
   "outputs": [],
   "source": [
    "model = SMP_Unet_meta(n_channels=5, n_classes=config['num_classes'], use_metadata=config['use_metadata'])"
   ]
  },
  {
   "cell_type": "code",
   "execution_count": 9,
   "metadata": {},
   "outputs": [],
   "source": [
    "with torch.no_grad():\n",
    "        class_weights = torch.FloatTensor(config['class_weights'])\n",
    "criterion = nn.CrossEntropyLoss(weight=class_weights)"
   ]
  },
  {
   "cell_type": "code",
   "execution_count": 10,
   "metadata": {},
   "outputs": [],
   "source": [
    "optimizer = torch.optim.SGD(model.parameters(), lr=config['learning_rate'])"
   ]
  },
  {
   "cell_type": "code",
   "execution_count": 11,
   "metadata": {},
   "outputs": [],
   "source": [
    "scheduler = ReduceLROnPlateau(\n",
    "    optimizer=optimizer,\n",
    "    mode=\"min\",\n",
    "    factor=0.5,\n",
    "    patience=10,\n",
    "    cooldown=4,\n",
    "    min_lr=1e-7,\n",
    ")"
   ]
  },
  {
   "cell_type": "code",
   "execution_count": 12,
   "metadata": {},
   "outputs": [],
   "source": [
    "seg_module = SegmentationTask(\n",
    "    model=model,\n",
    "    num_classes=dm.num_classes,\n",
    "    criterion=criterion,\n",
    "    optimizer=optimizer,\n",
    "    scheduler=scheduler,\n",
    "    use_metadata=config['use_metadata']\n",
    ")"
   ]
  },
  {
   "cell_type": "code",
   "execution_count": 13,
   "metadata": {},
   "outputs": [],
   "source": [
    "ckpt_callback = ModelCheckpoint(\n",
    "    monitor=\"val_loss\",\n",
    "    dirpath=os.path.join(out_dir,\"checkpoints\"),\n",
    "    filename=\"ckpt-{epoch:02d}-{val_loss:.2f}\"+'_'+config['outputs']['out_model_name'],\n",
    "    save_top_k=1,\n",
    "    mode=\"min\",\n",
    "    save_weights_only=True, # can be changed accordingly\n",
    ")\n",
    "\n",
    "early_stop_callback = EarlyStopping(\n",
    "    monitor=\"val_loss\",\n",
    "    min_delta=0.00,\n",
    "    patience=30, # if no improvement after 30 epoch, stop learning. \n",
    "    mode=\"min\",\n",
    ")\n",
    "\n",
    "prog_rate = TQDMProgressBar(refresh_rate=config['progress_rate'])\n",
    "\n",
    "callbacks = [\n",
    "    ckpt_callback, \n",
    "    early_stop_callback,\n",
    "    prog_rate,\n",
    "]"
   ]
  },
  {
   "cell_type": "code",
   "execution_count": 14,
   "metadata": {},
   "outputs": [],
   "source": [
    "logger = TensorBoardLogger(\n",
    "    save_dir=out_dir,\n",
    "    name=Path(\"tensorboard_logs\"+'_'+config['outputs']['out_model_name']).as_posix()\n",
    ")\n",
    "\n",
    "loggers = [\n",
    "    logger\n",
    "]"
   ]
  },
  {
   "cell_type": "markdown",
   "metadata": {},
   "source": [
    "# Model Training"
   ]
  },
  {
   "cell_type": "code",
   "execution_count": 15,
   "metadata": {},
   "outputs": [
    {
     "name": "stderr",
     "output_type": "stream",
     "text": [
      "GPU available: True (mps), used: False\n",
      "TPU available: False, using: 0 TPU cores\n",
      "IPU available: False, using: 0 IPUs\n",
      "HPU available: False, using: 0 HPUs\n",
      "/Users/Theo/Library/Caches/pypoetry/virtualenvs/inf573-s0HXXHew-py3.10/lib/python3.10/site-packages/pytorch_lightning/trainer/setup.py:201: UserWarning: MPS available but not used. Set `accelerator` and `devices` using `Trainer(accelerator='mps', devices=1)`.\n",
      "  rank_zero_warn(\n"
     ]
    }
   ],
   "source": [
    "#### instanciation of  Trainer\n",
    "trainer = Trainer(\n",
    "    accelerator = config[\"accelerator\"],\n",
    "    devices = config[\"gpus_per_node\"],\n",
    "    strategy = config[\"strategy\"],\n",
    "    num_nodes = config[\"num_nodes\"],\n",
    "    max_epochs = config[\"num_epochs\"],\n",
    "    num_sanity_val_steps = 0,\n",
    "    callbacks = callbacks,\n",
    "    logger = loggers,\n",
    "    enable_progress_bar = config[\"enable_progress_bar\"],\n",
    ")"
   ]
  },
  {
   "cell_type": "code",
   "execution_count": 16,
   "metadata": {},
   "outputs": [
    {
     "name": "stderr",
     "output_type": "stream",
     "text": [
      "\n",
      "  | Name          | Type                   | Params\n",
      "---------------------------------------------------------\n",
      "0 | model         | SMP_Unet_meta          | 24.4 M\n",
      "1 | criterion     | CrossEntropyLoss       | 0     \n",
      "2 | train_metrics | MulticlassJaccardIndex | 0     \n",
      "3 | val_metrics   | MulticlassJaccardIndex | 0     \n",
      "4 | train_loss    | MeanMetric             | 0     \n",
      "5 | val_loss      | MeanMetric             | 0     \n",
      "---------------------------------------------------------\n",
      "24.4 M    Trainable params\n",
      "0         Non-trainable params\n",
      "24.4 M    Total params\n",
      "97.774    Total estimated model params size (MB)\n",
      "/Users/Theo/Library/Caches/pypoetry/virtualenvs/inf573-s0HXXHew-py3.10/lib/python3.10/site-packages/pytorch_lightning/trainer/trainer.py:1609: PossibleUserWarning: The number of training batches (31) is smaller than the logging interval Trainer(log_every_n_steps=50). Set a lower value for log_every_n_steps if you want to see logs for the training epoch.\n",
      "  rank_zero_warn(\n"
     ]
    },
    {
     "data": {
      "application/vnd.jupyter.widget-view+json": {
       "model_id": "3a1ff69468e44b829abc0692692f0d62",
       "version_major": 2,
       "version_minor": 0
      },
      "text/plain": [
       "Training: 0it [00:00, ?it/s]"
      ]
     },
     "metadata": {},
     "output_type": "display_data"
    },
    {
     "data": {
      "application/vnd.jupyter.widget-view+json": {
       "model_id": "6c117125a2d243a99022b760e098a68a",
       "version_major": 2,
       "version_minor": 0
      },
      "text/plain": [
       "Validation: 0it [00:00, ?it/s]"
      ]
     },
     "metadata": {},
     "output_type": "display_data"
    },
    {
     "name": "stderr",
     "output_type": "stream",
     "text": [
      "`Trainer.fit` stopped: `max_epochs=1` reached.\n"
     ]
    }
   ],
   "source": [
    "trainer.fit(seg_module, datamodule=dm)"
   ]
  },
  {
   "cell_type": "code",
   "execution_count": 17,
   "metadata": {},
   "outputs": [
    {
     "data": {
      "application/vnd.jupyter.widget-view+json": {
       "model_id": "335f91d3dae74cc4904cf515156a45e7",
       "version_major": 2,
       "version_minor": 0
      },
      "text/plain": [
       "Validation: 0it [00:00, ?it/s]"
      ]
     },
     "metadata": {},
     "output_type": "display_data"
    },
    {
     "name": "stdout",
     "output_type": "stream",
     "text": [
      "────────────────────────────────────────────────────────────────────────────────────────────────────────────────────────\n",
      "     Validate metric           DataLoader 0\n",
      "────────────────────────────────────────────────────────────────────────────────────────────────────────────────────────\n",
      "        val_loss            0.8720876574516296\n",
      "        val_miou           0.057815562933683395\n",
      "────────────────────────────────────────────────────────────────────────────────────────────────────────────────────────\n"
     ]
    },
    {
     "data": {
      "text/plain": [
       "[{'val_loss': 0.8720876574516296, 'val_miou': 0.057815562933683395}]"
      ]
     },
     "execution_count": 17,
     "metadata": {},
     "output_type": "execute_result"
    }
   ],
   "source": [
    "trainer.validate(seg_module, datamodule=dm)"
   ]
  },
  {
   "cell_type": "code",
   "execution_count": 18,
   "metadata": {},
   "outputs": [
    {
     "name": "stdout",
     "output_type": "stream",
     "text": [
      "['/Users/Theo/Documents/Depots-github/2023/inf573vegetalisation', '/Users/Theo/.pyenv/versions/3.10.0/Library/Frameworks/Python.framework/Versions/3.10/lib/python310.zip', '/Users/Theo/.pyenv/versions/3.10.0/Library/Frameworks/Python.framework/Versions/3.10/lib/python3.10', '/Users/Theo/.pyenv/versions/3.10.0/Library/Frameworks/Python.framework/Versions/3.10/lib/python3.10/lib-dynload', '', '/Users/Theo/Library/Caches/pypoetry/virtualenvs/inf573-s0HXXHew-py3.10/lib/python3.10/site-packages', '/var/folders/1y/1xnjycd57cjdlfxk8s7k719c0000gn/T/tmpezm56dq7']\n"
     ]
    }
   ],
   "source": [
    "import sys\n",
    "print(sys.path)"
   ]
  },
  {
   "cell_type": "code",
   "execution_count": null,
   "metadata": {},
   "outputs": [],
   "source": []
  }
 ],
 "metadata": {
  "kernelspec": {
   "display_name": "inf573-s0HXXHew-py3.10",
   "language": "python",
   "name": "python3"
  },
  "language_info": {
   "codemirror_mode": {
    "name": "ipython",
    "version": 3
   },
   "file_extension": ".py",
   "mimetype": "text/x-python",
   "name": "python",
   "nbconvert_exporter": "python",
   "pygments_lexer": "ipython3",
   "version": "3.10.0"
  }
 },
 "nbformat": 4,
 "nbformat_minor": 2
}
